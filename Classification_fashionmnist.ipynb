{
  "nbformat": 4,
  "nbformat_minor": 0,
  "metadata": {
    "colab": {
      "name": "Ensemble.ipynb",
      "version": "0.3.2",
      "views": {},
      "default_view": {},
      "provenance": [
        {
          "file_id": "1aiANdiclwuYqpxY5jR4SkBl-7XYsXCg2",
          "timestamp": 1524811322063
        }
      ],
      "collapsed_sections": []
    },
    "kernelspec": {
      "name": "python3",
      "display_name": "Python 3"
    },
    "accelerator": "GPU"
  },
  "cells": [
    {
      "metadata": {
        "id": "fGLBrPUAEJJZ",
        "colab_type": "text"
      },
      "cell_type": "markdown",
      "source": [
        "# **Connect to Google Drive**"
      ]
    },
    {
      "metadata": {
        "id": "nU_Gdl1SnULR",
        "colab_type": "code",
        "colab": {
          "autoexec": {
            "startup": false,
            "wait_interval": 0
          },
          "base_uri": "https://localhost:8080/",
          "height": 141
        },
        "outputId": "0aa8ab7e-816d-4e08-fe90-1dffd6f54e34",
        "executionInfo": {
          "status": "ok",
          "timestamp": 1525535659334,
          "user_tz": -480,
          "elapsed": 22080,
          "user": {
            "displayName": "Cao Liu",
            "photoUrl": "https://lh3.googleusercontent.com/a/default-user=s128",
            "userId": "100502084316368537324"
          }
        }
      },
      "cell_type": "code",
      "source": [
        "!apt-get install -y -qq software-properties-common python-software-properties module-init-tools\n",
        "!add-apt-repository -y ppa:alessandro-strada/ppa 2>&1 > /dev/null\n",
        "!apt-get update -qq 2>&1 > /dev/null\n",
        "!apt-get -y install -qq google-drive-ocamlfuse fuse\n",
        "from google.colab import auth\n",
        "auth.authenticate_user()\n",
        "from oauth2client.client import GoogleCredentials\n",
        "creds = GoogleCredentials.get_application_default()\n",
        "import getpass\n",
        "!google-drive-ocamlfuse -headless -id={creds.client_id} -secret={creds.client_secret} < /dev/null 2>&1 | grep URL\n",
        "vcode = getpass.getpass()\n",
        "!echo {vcode} | google-drive-ocamlfuse -headless -id={creds.client_id} -secret={creds.client_secret}"
      ],
      "execution_count": 1,
      "outputs": [
        {
          "output_type": "stream",
          "text": [
            "gpg: keybox '/tmp/tmpxyilksgo/pubring.gpg' created\n",
            "gpg: /tmp/tmpxyilksgo/trustdb.gpg: trustdb created\n",
            "gpg: key AD5F235DF639B041: public key \"Launchpad PPA for Alessandro Strada\" imported\n",
            "gpg: Total number processed: 1\n",
            "gpg:               imported: 1\n",
            "Warning: apt-key output should not be parsed (stdout is not a terminal)\n",
            "··········\n"
          ],
          "name": "stdout"
        }
      ]
    },
    {
      "metadata": {
        "id": "JseetZianZd3",
        "colab_type": "code",
        "colab": {
          "autoexec": {
            "startup": false,
            "wait_interval": 0
          },
          "base_uri": "https://localhost:8080/",
          "height": 52
        },
        "outputId": "61b4d562-7eba-460c-b88b-a1d08d7b6278",
        "executionInfo": {
          "status": "ok",
          "timestamp": 1525535873554,
          "user_tz": -480,
          "elapsed": 4265,
          "user": {
            "displayName": "Cao Liu",
            "photoUrl": "https://lh3.googleusercontent.com/a/default-user=s128",
            "userId": "100502084316368537324"
          }
        }
      },
      "cell_type": "code",
      "source": [
        "!mkdir -p drive\n",
        "!google-drive-ocamlfuse drive"
      ],
      "execution_count": 3,
      "outputs": [
        {
          "output_type": "stream",
          "text": [
            "fuse: mountpoint is not empty\r\n",
            "fuse: if you are sure this is safe, use the 'nonempty' mount option\r\n"
          ],
          "name": "stdout"
        }
      ]
    },
    {
      "metadata": {
        "id": "X-V8A8_ZESyS",
        "colab_type": "text"
      },
      "cell_type": "markdown",
      "source": [
        "# **Check Fashion Mnist Data file**"
      ]
    },
    {
      "metadata": {
        "id": "xaliyALJnaY-",
        "colab_type": "code",
        "colab": {
          "autoexec": {
            "startup": false,
            "wait_interval": 0
          },
          "base_uri": "https://localhost:8080/",
          "height": 70
        },
        "outputId": "f64fceab-741c-44d4-a17a-b4bf53fa376c",
        "executionInfo": {
          "status": "ok",
          "timestamp": 1525535877149,
          "user_tz": -480,
          "elapsed": 1956,
          "user": {
            "displayName": "Cao Liu",
            "photoUrl": "https://lh3.googleusercontent.com/a/default-user=s128",
            "userId": "100502084316368537324"
          }
        }
      },
      "cell_type": "code",
      "source": [
        "ls drive/CI-CA1/fashionmnist"
      ],
      "execution_count": 4,
      "outputs": [
        {
          "output_type": "stream",
          "text": [
            "fashion-mnist_test.csv   t10k-images-idx3-ubyte   train-labels-idx1-ubyte\r\n",
            "fashion-mnist_train.csv  t10k-labels-idx1-ubyte\r\n",
            "\u001b[0m\u001b[01;34mfashion-model\u001b[0m/           train-images-idx3-ubyte\r\n"
          ],
          "name": "stdout"
        }
      ]
    },
    {
      "metadata": {
        "id": "CGERbDdMEk2C",
        "colab_type": "text"
      },
      "cell_type": "markdown",
      "source": [
        "# **Check GPU connection**"
      ]
    },
    {
      "metadata": {
        "id": "iE28Bv3yEm9b",
        "colab_type": "code",
        "colab": {
          "autoexec": {
            "startup": false,
            "wait_interval": 0
          },
          "base_uri": "https://localhost:8080/",
          "height": 283
        },
        "outputId": "ef8e2161-b0cd-46ee-c276-ad37a3fc1f6c",
        "executionInfo": {
          "status": "ok",
          "timestamp": 1525535880931,
          "user_tz": -480,
          "elapsed": 2288,
          "user": {
            "displayName": "Cao Liu",
            "photoUrl": "https://lh3.googleusercontent.com/a/default-user=s128",
            "userId": "100502084316368537324"
          }
        }
      },
      "cell_type": "code",
      "source": [
        "import tensorflow as tf\n",
        "from tensorflow.python.client import device_lib\n",
        "tf.test.gpu_device_name()\n",
        "device_lib.list_local_devices()"
      ],
      "execution_count": 5,
      "outputs": [
        {
          "output_type": "execute_result",
          "data": {
            "text/plain": [
              "[name: \"/device:CPU:0\"\n",
              " device_type: \"CPU\"\n",
              " memory_limit: 268435456\n",
              " locality {\n",
              " }\n",
              " incarnation: 14481321747383203902, name: \"/device:GPU:0\"\n",
              " device_type: \"GPU\"\n",
              " memory_limit: 11288962663\n",
              " locality {\n",
              "   bus_id: 1\n",
              "   links {\n",
              "   }\n",
              " }\n",
              " incarnation: 13559186019566928678\n",
              " physical_device_desc: \"device: 0, name: Tesla K80, pci bus id: 0000:00:04.0, compute capability: 3.7\"]"
            ]
          },
          "metadata": {
            "tags": []
          },
          "execution_count": 5
        }
      ]
    },
    {
      "metadata": {
        "id": "gGOm_fF54vLI",
        "colab_type": "text"
      },
      "cell_type": "markdown",
      "source": [
        "# **Import Libraries**"
      ]
    },
    {
      "metadata": {
        "id": "y08mPe3QiGSE",
        "colab_type": "code",
        "colab": {
          "autoexec": {
            "startup": false,
            "wait_interval": 0
          },
          "base_uri": "https://localhost:8080/",
          "height": 34
        },
        "outputId": "de81a0cf-4f5b-48c7-a76d-718cfebc6a1d",
        "executionInfo": {
          "status": "ok",
          "timestamp": 1525535883593,
          "user_tz": -480,
          "elapsed": 785,
          "user": {
            "displayName": "Cao Liu",
            "photoUrl": "https://lh3.googleusercontent.com/a/default-user=s128",
            "userId": "100502084316368537324"
          }
        }
      },
      "cell_type": "code",
      "source": [
        "import numpy as np\n",
        "import pandas as pd\n",
        "from sklearn.model_selection import train_test_split\n",
        "from sklearn.tree import DecisionTreeClassifier\n",
        "from sklearn.ensemble import RandomForestClassifier,BaggingClassifier,AdaBoostClassifier,VotingClassifier\n",
        "from sklearn.linear_model import LogisticRegression\n",
        "from sklearn.svm import SVC\n",
        "from sklearn.neural_network import MLPClassifier\n",
        "from sklearn.neighbors import KNeighborsClassifier\n",
        "from sklearn.metrics import accuracy_score\n",
        "import keras\n",
        "from keras.models import Sequential\n",
        "from keras.layers import Conv2D, MaxPooling2D, GlobalAveragePooling2D, Activation, Average, Dense, Dropout, Flatten\n",
        "from keras.layers.normalization import BatchNormalization\n",
        "from keras.utils import to_categorical\n",
        "from keras.layers.advanced_activations import LeakyReLU\n",
        "from keras.models import Model, Input\n"
      ],
      "execution_count": 6,
      "outputs": [
        {
          "output_type": "stream",
          "text": [
            "Using TensorFlow backend.\n"
          ],
          "name": "stderr"
        }
      ]
    },
    {
      "metadata": {
        "id": "Vl_ddG8q46oy",
        "colab_type": "text"
      },
      "cell_type": "markdown",
      "source": [
        "# **Read data from CSV**"
      ]
    },
    {
      "metadata": {
        "id": "IeXnqlcl3snd",
        "colab_type": "text"
      },
      "cell_type": "markdown",
      "source": [
        ""
      ]
    },
    {
      "metadata": {
        "id": "Y8W1fBvdi3sH",
        "colab_type": "code",
        "colab": {
          "autoexec": {
            "startup": false,
            "wait_interval": 0
          }
        }
      },
      "cell_type": "code",
      "source": [
        "data_train = pd.read_csv('drive/CI-CA1/fashionmnist/fashion-mnist_train.csv')\n",
        "data_test = pd.read_csv('drive/CI-CA1/fashionmnist/fashion-mnist_test.csv')"
      ],
      "execution_count": 0,
      "outputs": []
    },
    {
      "metadata": {
        "id": "ITyMwMJfGmQq",
        "colab_type": "text"
      },
      "cell_type": "markdown",
      "source": [
        "# **Preprocess data**"
      ]
    },
    {
      "metadata": {
        "id": "StVIu7L7GlcI",
        "colab_type": "code",
        "colab": {
          "autoexec": {
            "startup": false,
            "wait_interval": 0
          }
        }
      },
      "cell_type": "code",
      "source": [
        "img_rows, img_cols = 28, 28\n",
        "input_shape = (img_rows, img_cols, 1)\n",
        "X = np.array(data_train.iloc[:, 1:])\n",
        "y = to_categorical(np.array(data_train.iloc[:, 0]))\n",
        "X_train, X_val, y_train, y_val = train_test_split(X, y, test_size=0.2, random_state=13)\n",
        "#Test data\n",
        "X_test = np.array(data_test.iloc[:, 1:])\n",
        "y_test = to_categorical(np.array(data_test.iloc[:, 0]))\n",
        "X_train = X_train.reshape(X_train.shape[0], img_rows, img_cols, 1)\n",
        "X_test = X_test.reshape(X_test.shape[0], img_rows, img_cols, 1)\n",
        "X_val = X_val.reshape(X_val.shape[0], img_rows, img_cols, 1)\n",
        "X_train = X_train.astype('float32')\n",
        "X_test = X_test.astype('float32')\n",
        "X_val = X_val.astype('float32')\n",
        "X_train /= 255\n",
        "X_test /= 255\n",
        "X_val /= 255\n",
        "batch_size = 256\n",
        "num_classes = 10\n",
        "epochs = 50\n",
        "#input image dimensions\n",
        "img_rows, img_cols = 28, 28"
      ],
      "execution_count": 0,
      "outputs": []
    },
    {
      "metadata": {
        "id": "cOQ0gwgO5Ka9",
        "colab_type": "text"
      },
      "cell_type": "markdown",
      "source": [
        "# **Define Compile and Train Function**"
      ]
    },
    {
      "metadata": {
        "id": "jXrEES1wkY4H",
        "colab_type": "code",
        "colab": {
          "autoexec": {
            "startup": false,
            "wait_interval": 0
          }
        }
      },
      "cell_type": "code",
      "source": [
        "def compile_and_train(model, num_epochs): \n",
        "    model.compile(loss='categorical_crossentropy', optimizer='adam', metrics=['accuracy']) \n",
        "    history = model.fit(x=X_train,y= y_train,batch_size=batch_size, epochs=num_epochs,verbose=1,validation_data=(X_val, y_val))\n",
        "    return history"
      ],
      "execution_count": 0,
      "outputs": []
    },
    {
      "metadata": {
        "id": "6LUlCciM5RUR",
        "colab_type": "text"
      },
      "cell_type": "markdown",
      "source": [
        "# **Define Accuracy function**"
      ]
    },
    {
      "metadata": {
        "id": "El1KrtAK4Baq",
        "colab_type": "code",
        "colab": {
          "autoexec": {
            "startup": false,
            "wait_interval": 0
          }
        }
      },
      "cell_type": "code",
      "source": [
        "def evaluate_accuracy(model):\n",
        "    score = model.evaluate(X_test, y_test, verbose=0)    \n",
        "    return score[1]"
      ],
      "execution_count": 0,
      "outputs": []
    },
    {
      "metadata": {
        "id": "y0aeLPlv5hXF",
        "colab_type": "text"
      },
      "cell_type": "markdown",
      "source": [
        "# **Define MLPC model**"
      ]
    },
    {
      "metadata": {
        "id": "GexR_X3Y5d76",
        "colab_type": "code",
        "colab": {
          "autoexec": {
            "startup": false,
            "wait_interval": 0
          }
        }
      },
      "cell_type": "code",
      "source": [
        "model_input = Input(shape=input_shape)\n",
        "def mlpc(model_input):  \n",
        "    x=Dense(128, activation='relu')(model_input)\n",
        "    x=Flatten()(x)\n",
        "    x=Dense(128, activation='relu')(x)\n",
        "    x=Dropout(0.3)(x)\n",
        "    x=Dense(num_classes, activation='softmax')(x)   \n",
        "    model = Model(model_input, x, name='mplc')\n",
        "    return model"
      ],
      "execution_count": 0,
      "outputs": []
    },
    {
      "metadata": {
        "id": "JhSeQHkS5q26",
        "colab_type": "text"
      },
      "cell_type": "markdown",
      "source": [
        "# **Define CNN model**"
      ]
    },
    {
      "metadata": {
        "id": "wpLijyrqtEQP",
        "colab_type": "code",
        "colab": {
          "autoexec": {
            "startup": false,
            "wait_interval": 0
          }
        }
      },
      "cell_type": "code",
      "source": [
        "def cnn(model_input):\n",
        "    x = Conv2D(32, kernel_size=(3, 3), activation='relu',padding=\"same\",\n",
        "        kernel_initializer='he_normal')(model_input)\n",
        "    x=Conv2D(filters=64, kernel_size=(3, 3), padding=\"same\", activation='relu')(x)\n",
        "    x=MaxPooling2D(pool_size=(2, 2))(x)\n",
        "    x=Dropout(0.5)(x)\n",
        "    x=Conv2D(filters=128, kernel_size=(3, 3), padding=\"same\", activation='relu')(x)\n",
        "    x=Conv2D(filters=256, kernel_size=(3, 3), padding=\"valid\", activation='relu')(x)\n",
        "    x=MaxPooling2D(pool_size=(3, 3))(x)\n",
        "    x=Dropout(0.5)(x)\n",
        "    x=Flatten()(x)\n",
        "    x=Dense(256)(x)\n",
        "    x=LeakyReLU()(x)\n",
        "    x=Dropout(0.5)(x)\n",
        "    x=Dense(256)(x)\n",
        "    x=LeakyReLU()(x)\n",
        "    x=Dense(num_classes, activation='softmax')(x)     \n",
        "    model = Model(model_input, x, name='cnn')\n",
        "    return model"
      ],
      "execution_count": 0,
      "outputs": []
    },
    {
      "metadata": {
        "id": "9RhueAsU6HaL",
        "colab_type": "text"
      },
      "cell_type": "markdown",
      "source": [
        "# **Instantiate MLPC model and train**"
      ]
    },
    {
      "metadata": {
        "id": "5DToRjqh_jIe",
        "colab_type": "code",
        "colab": {
          "autoexec": {
            "startup": false,
            "wait_interval": 0
          },
          "base_uri": "https://localhost:8080/",
          "height": 1832
        },
        "outputId": "2730fb11-727d-466b-a205-87bfb0ffa75f",
        "executionInfo": {
          "status": "ok",
          "timestamp": 1525536545946,
          "user_tz": -480,
          "elapsed": 552896,
          "user": {
            "displayName": "Cao Liu",
            "photoUrl": "https://lh3.googleusercontent.com/a/default-user=s128",
            "userId": "100502084316368537324"
          }
        }
      },
      "cell_type": "code",
      "source": [
        "mlpc = mlpc(model_input)\n",
        "history_mlpc=compile_and_train(mlpc, num_epochs=50)"
      ],
      "execution_count": 13,
      "outputs": [
        {
          "output_type": "stream",
          "text": [
            "Train on 48000 samples, validate on 12000 samples\n",
            "Epoch 1/50\n",
            "48000/48000 [==============================] - 12s 242us/step - loss: 0.6505 - acc: 0.7700 - val_loss: 0.4277 - val_acc: 0.8452\n",
            "Epoch 2/50\n",
            "48000/48000 [==============================] - 11s 228us/step - loss: 0.4522 - acc: 0.8370 - val_loss: 0.4164 - val_acc: 0.8508\n",
            "Epoch 3/50\n",
            "11776/48000 [======>.......................] - ETA: 7s - loss: 0.4230 - acc: 0.8461"
          ],
          "name": "stdout"
        },
        {
          "output_type": "stream",
          "text": [
            "48000/48000 [==============================] - 11s 230us/step - loss: 0.4311 - acc: 0.8430 - val_loss: 0.3983 - val_acc: 0.8507\n",
            "Epoch 4/50\n",
            "48000/48000 [==============================] - 11s 229us/step - loss: 0.4060 - acc: 0.8524 - val_loss: 0.3758 - val_acc: 0.8641\n",
            "Epoch 5/50\n",
            "32768/48000 [===================>..........] - ETA: 3s - loss: 0.3977 - acc: 0.8536"
          ],
          "name": "stdout"
        },
        {
          "output_type": "stream",
          "text": [
            "48000/48000 [==============================] - 11s 231us/step - loss: 0.3959 - acc: 0.8548 - val_loss: 0.3646 - val_acc: 0.8693\n",
            "Epoch 6/50\n",
            "48000/48000 [==============================] - 11s 231us/step - loss: 0.3858 - acc: 0.8581 - val_loss: 0.3654 - val_acc: 0.8638\n",
            "Epoch 7/50\n",
            "37632/48000 [======================>.......] - ETA: 2s - loss: 0.3728 - acc: 0.8638"
          ],
          "name": "stdout"
        },
        {
          "output_type": "stream",
          "text": [
            "48000/48000 [==============================] - 11s 230us/step - loss: 0.3737 - acc: 0.8633 - val_loss: 0.3688 - val_acc: 0.8692\n",
            "Epoch 8/50\n",
            "48000/48000 [==============================] - 11s 230us/step - loss: 0.3672 - acc: 0.8655 - val_loss: 0.3559 - val_acc: 0.8685\n",
            "Epoch 9/50\n",
            "38656/48000 [=======================>......] - ETA: 1s - loss: 0.3592 - acc: 0.8662"
          ],
          "name": "stdout"
        },
        {
          "output_type": "stream",
          "text": [
            "48000/48000 [==============================] - 11s 229us/step - loss: 0.3572 - acc: 0.8678 - val_loss: 0.3512 - val_acc: 0.8706\n",
            "Epoch 10/50\n",
            "48000/48000 [==============================] - 11s 229us/step - loss: 0.3448 - acc: 0.8749 - val_loss: 0.3439 - val_acc: 0.8740\n",
            "Epoch 11/50\n",
            "38656/48000 [=======================>......] - ETA: 1s - loss: 0.3431 - acc: 0.8748"
          ],
          "name": "stdout"
        },
        {
          "output_type": "stream",
          "text": [
            "48000/48000 [==============================] - 11s 229us/step - loss: 0.3411 - acc: 0.8747 - val_loss: 0.3456 - val_acc: 0.8728\n",
            "Epoch 12/50\n",
            "48000/48000 [==============================] - 11s 230us/step - loss: 0.3385 - acc: 0.8728 - val_loss: 0.3605 - val_acc: 0.8708\n",
            "Epoch 13/50\n",
            "38656/48000 [=======================>......] - ETA: 1s - loss: 0.3343 - acc: 0.8751"
          ],
          "name": "stdout"
        },
        {
          "output_type": "stream",
          "text": [
            "48000/48000 [==============================] - 11s 229us/step - loss: 0.3336 - acc: 0.8748 - val_loss: 0.3422 - val_acc: 0.8775\n",
            "Epoch 14/50\n",
            "48000/48000 [==============================] - 11s 229us/step - loss: 0.3263 - acc: 0.8790 - val_loss: 0.3384 - val_acc: 0.8761\n",
            "Epoch 15/50\n",
            "38656/48000 [=======================>......] - ETA: 1s - loss: 0.3220 - acc: 0.8785"
          ],
          "name": "stdout"
        },
        {
          "output_type": "stream",
          "text": [
            "48000/48000 [==============================] - 11s 229us/step - loss: 0.3201 - acc: 0.8798 - val_loss: 0.3334 - val_acc: 0.8796\n",
            "Epoch 16/50\n",
            "48000/48000 [==============================] - 11s 229us/step - loss: 0.3115 - acc: 0.8836 - val_loss: 0.3395 - val_acc: 0.8764\n",
            "Epoch 17/50\n",
            "38656/48000 [=======================>......] - ETA: 1s - loss: 0.3165 - acc: 0.8814"
          ],
          "name": "stdout"
        },
        {
          "output_type": "stream",
          "text": [
            "48000/48000 [==============================] - 11s 230us/step - loss: 0.3166 - acc: 0.8814 - val_loss: 0.3474 - val_acc: 0.8705\n",
            "Epoch 18/50\n",
            "48000/48000 [==============================] - 11s 230us/step - loss: 0.3098 - acc: 0.8846 - val_loss: 0.3397 - val_acc: 0.8780\n",
            "Epoch 19/50\n",
            "38656/48000 [=======================>......] - ETA: 1s - loss: 0.3088 - acc: 0.8860"
          ],
          "name": "stdout"
        },
        {
          "output_type": "stream",
          "text": [
            "48000/48000 [==============================] - 11s 229us/step - loss: 0.3058 - acc: 0.8873 - val_loss: 0.3275 - val_acc: 0.8828\n",
            "Epoch 20/50\n",
            "48000/48000 [==============================] - 11s 230us/step - loss: 0.2991 - acc: 0.8883 - val_loss: 0.3411 - val_acc: 0.8796\n",
            "Epoch 21/50\n",
            "38656/48000 [=======================>......] - ETA: 1s - loss: 0.2958 - acc: 0.8888"
          ],
          "name": "stdout"
        },
        {
          "output_type": "stream",
          "text": [
            "48000/48000 [==============================] - 11s 232us/step - loss: 0.2963 - acc: 0.8885 - val_loss: 0.3342 - val_acc: 0.8787\n",
            "Epoch 22/50\n",
            "48000/48000 [==============================] - 11s 231us/step - loss: 0.3001 - acc: 0.8870 - val_loss: 0.3290 - val_acc: 0.8857\n",
            "Epoch 23/50\n",
            "38656/48000 [=======================>......] - ETA: 1s - loss: 0.2854 - acc: 0.8937"
          ],
          "name": "stdout"
        },
        {
          "output_type": "stream",
          "text": [
            "48000/48000 [==============================] - 11s 231us/step - loss: 0.2884 - acc: 0.8925 - val_loss: 0.3402 - val_acc: 0.8799\n",
            "Epoch 24/50\n",
            "48000/48000 [==============================] - 11s 231us/step - loss: 0.2840 - acc: 0.8944 - val_loss: 0.3332 - val_acc: 0.8802\n",
            "Epoch 25/50\n",
            "38656/48000 [=======================>......] - ETA: 1s - loss: 0.2816 - acc: 0.8943"
          ],
          "name": "stdout"
        },
        {
          "output_type": "stream",
          "text": [
            "48000/48000 [==============================] - 11s 229us/step - loss: 0.2807 - acc: 0.8946 - val_loss: 0.3254 - val_acc: 0.8865\n",
            "Epoch 26/50\n",
            "48000/48000 [==============================] - 11s 229us/step - loss: 0.2777 - acc: 0.8961 - val_loss: 0.3288 - val_acc: 0.8797\n",
            "Epoch 27/50\n",
            "38656/48000 [=======================>......] - ETA: 1s - loss: 0.2739 - acc: 0.8960"
          ],
          "name": "stdout"
        },
        {
          "output_type": "stream",
          "text": [
            "48000/48000 [==============================] - 11s 230us/step - loss: 0.2783 - acc: 0.8942 - val_loss: 0.3268 - val_acc: 0.8825\n",
            "Epoch 28/50\n",
            "48000/48000 [==============================] - 11s 228us/step - loss: 0.2728 - acc: 0.8968 - val_loss: 0.3341 - val_acc: 0.8828\n",
            "Epoch 29/50\n",
            "38656/48000 [=======================>......] - ETA: 1s - loss: 0.2679 - acc: 0.8967"
          ],
          "name": "stdout"
        },
        {
          "output_type": "stream",
          "text": [
            "48000/48000 [==============================] - 11s 231us/step - loss: 0.2667 - acc: 0.8974 - val_loss: 0.3335 - val_acc: 0.8818\n",
            "Epoch 30/50\n",
            "48000/48000 [==============================] - 11s 229us/step - loss: 0.2695 - acc: 0.8996 - val_loss: 0.3290 - val_acc: 0.8825\n",
            "Epoch 31/50\n",
            "38656/48000 [=======================>......] - ETA: 1s - loss: 0.2711 - acc: 0.8982"
          ],
          "name": "stdout"
        },
        {
          "output_type": "stream",
          "text": [
            "48000/48000 [==============================] - 11s 229us/step - loss: 0.2700 - acc: 0.8980 - val_loss: 0.3231 - val_acc: 0.8863\n",
            "Epoch 32/50\n",
            "48000/48000 [==============================] - 11s 231us/step - loss: 0.2627 - acc: 0.8995 - val_loss: 0.3221 - val_acc: 0.8853\n",
            "Epoch 33/50\n",
            "38656/48000 [=======================>......] - ETA: 1s - loss: 0.2591 - acc: 0.9025"
          ],
          "name": "stdout"
        },
        {
          "output_type": "stream",
          "text": [
            "48000/48000 [==============================] - 11s 230us/step - loss: 0.2604 - acc: 0.9020 - val_loss: 0.3222 - val_acc: 0.8852\n",
            "Epoch 34/50\n",
            "48000/48000 [==============================] - 11s 230us/step - loss: 0.2563 - acc: 0.9028 - val_loss: 0.3261 - val_acc: 0.8838\n",
            "Epoch 35/50\n",
            "38656/48000 [=======================>......] - ETA: 1s - loss: 0.2535 - acc: 0.9025"
          ],
          "name": "stdout"
        },
        {
          "output_type": "stream",
          "text": [
            "48000/48000 [==============================] - 11s 230us/step - loss: 0.2516 - acc: 0.9037 - val_loss: 0.3301 - val_acc: 0.8837\n",
            "Epoch 36/50\n",
            "48000/48000 [==============================] - 11s 230us/step - loss: 0.2487 - acc: 0.9056 - val_loss: 0.3162 - val_acc: 0.8899\n",
            "Epoch 37/50\n",
            "38656/48000 [=======================>......] - ETA: 1s - loss: 0.2495 - acc: 0.9051"
          ],
          "name": "stdout"
        },
        {
          "output_type": "stream",
          "text": [
            "48000/48000 [==============================] - 11s 230us/step - loss: 0.2496 - acc: 0.9047 - val_loss: 0.3271 - val_acc: 0.8828\n",
            "Epoch 38/50\n",
            "48000/48000 [==============================] - 11s 229us/step - loss: 0.2512 - acc: 0.9046 - val_loss: 0.3317 - val_acc: 0.8844\n",
            "Epoch 39/50\n",
            "38656/48000 [=======================>......] - ETA: 1s - loss: 0.2483 - acc: 0.9057"
          ],
          "name": "stdout"
        },
        {
          "output_type": "stream",
          "text": [
            "48000/48000 [==============================] - 11s 230us/step - loss: 0.2487 - acc: 0.9055 - val_loss: 0.3364 - val_acc: 0.8833\n",
            "Epoch 40/50\n",
            "48000/48000 [==============================] - 11s 229us/step - loss: 0.2405 - acc: 0.9087 - val_loss: 0.3412 - val_acc: 0.8829\n",
            "Epoch 41/50\n",
            "38656/48000 [=======================>......] - ETA: 1s - loss: 0.2390 - acc: 0.9080"
          ],
          "name": "stdout"
        },
        {
          "output_type": "stream",
          "text": [
            "48000/48000 [==============================] - 11s 230us/step - loss: 0.2391 - acc: 0.9079 - val_loss: 0.3363 - val_acc: 0.8807\n",
            "Epoch 42/50\n",
            "48000/48000 [==============================] - 11s 229us/step - loss: 0.2380 - acc: 0.9094 - val_loss: 0.3248 - val_acc: 0.8835\n",
            "Epoch 43/50\n",
            "38656/48000 [=======================>......] - ETA: 1s - loss: 0.2355 - acc: 0.9091"
          ],
          "name": "stdout"
        },
        {
          "output_type": "stream",
          "text": [
            "48000/48000 [==============================] - 11s 230us/step - loss: 0.2382 - acc: 0.9080 - val_loss: 0.3237 - val_acc: 0.8845\n",
            "Epoch 44/50\n",
            "48000/48000 [==============================] - 11s 228us/step - loss: 0.2378 - acc: 0.9094 - val_loss: 0.3396 - val_acc: 0.8846\n",
            "Epoch 45/50\n",
            "38656/48000 [=======================>......] - ETA: 1s - loss: 0.2339 - acc: 0.9102"
          ],
          "name": "stdout"
        },
        {
          "output_type": "stream",
          "text": [
            "48000/48000 [==============================] - 11s 229us/step - loss: 0.2351 - acc: 0.9094 - val_loss: 0.3367 - val_acc: 0.8851\n",
            "Epoch 46/50\n",
            "48000/48000 [==============================] - 11s 228us/step - loss: 0.2302 - acc: 0.9122 - val_loss: 0.3258 - val_acc: 0.8862\n",
            "Epoch 47/50\n",
            "38656/48000 [=======================>......] - ETA: 1s - loss: 0.2228 - acc: 0.9145"
          ],
          "name": "stdout"
        },
        {
          "output_type": "stream",
          "text": [
            "48000/48000 [==============================] - 11s 229us/step - loss: 0.2255 - acc: 0.9138 - val_loss: 0.3246 - val_acc: 0.8869\n",
            "Epoch 48/50\n",
            "48000/48000 [==============================] - 11s 227us/step - loss: 0.2270 - acc: 0.9126 - val_loss: 0.3414 - val_acc: 0.8858\n",
            "Epoch 49/50\n",
            "38656/48000 [=======================>......] - ETA: 1s - loss: 0.2275 - acc: 0.9130"
          ],
          "name": "stdout"
        },
        {
          "output_type": "stream",
          "text": [
            "48000/48000 [==============================] - 11s 229us/step - loss: 0.2283 - acc: 0.9125 - val_loss: 0.3281 - val_acc: 0.8873\n",
            "Epoch 50/50\n",
            "48000/48000 [==============================] - 11s 230us/step - loss: 0.2219 - acc: 0.9157 - val_loss: 0.3306 - val_acc: 0.8877\n"
          ],
          "name": "stdout"
        }
      ]
    },
    {
      "metadata": {
        "id": "LAZdtHIT6jcI",
        "colab_type": "text"
      },
      "cell_type": "markdown",
      "source": [
        "# **Evaluate MLPC accuracy by test data: 0.8914**"
      ]
    },
    {
      "metadata": {
        "id": "X_-01AhV32Jv",
        "colab_type": "code",
        "colab": {
          "autoexec": {
            "startup": false,
            "wait_interval": 0
          },
          "base_uri": "https://localhost:8080/",
          "height": 34
        },
        "outputId": "a45933ae-16de-48e9-b4a3-38fb8de67e3a",
        "executionInfo": {
          "status": "ok",
          "timestamp": 1525536670340,
          "user_tz": -480,
          "elapsed": 4909,
          "user": {
            "displayName": "Cao Liu",
            "photoUrl": "https://lh3.googleusercontent.com/a/default-user=s128",
            "userId": "100502084316368537324"
          }
        }
      },
      "cell_type": "code",
      "source": [
        "evaluate_accuracy(mlpc)"
      ],
      "execution_count": 14,
      "outputs": [
        {
          "output_type": "execute_result",
          "data": {
            "text/plain": [
              "0.8914"
            ]
          },
          "metadata": {
            "tags": []
          },
          "execution_count": 14
        }
      ]
    },
    {
      "metadata": {
        "id": "x8MVaWJEAgm9",
        "colab_type": "code",
        "colab": {
          "autoexec": {
            "startup": false,
            "wait_interval": 0
          },
          "base_uri": "https://localhost:8080/",
          "height": 543
        },
        "outputId": "c956796d-cfe8-4a47-f639-313c9f848c5b",
        "executionInfo": {
          "status": "ok",
          "timestamp": 1525536673508,
          "user_tz": -480,
          "elapsed": 1230,
          "user": {
            "displayName": "Cao Liu",
            "photoUrl": "https://lh3.googleusercontent.com/a/default-user=s128",
            "userId": "100502084316368537324"
          }
        }
      },
      "cell_type": "code",
      "source": [
        "import matplotlib.pyplot as plt\n",
        "%matplotlib inline\n",
        "accuracy = history_mlpc.history['acc']\n",
        "val_accuracy = history_mlpc.history['val_acc']\n",
        "loss = history_mlpc.history['loss']\n",
        "val_loss = history_mlpc.history['val_loss']\n",
        "epochs = range(len(accuracy))\n",
        "plt.plot(epochs, accuracy, 'bo', label='Training accuracy')\n",
        "plt.plot(epochs, val_accuracy, 'b', label='Validation accuracy')\n",
        "plt.title('Training and validation accuracy')\n",
        "plt.legend()\n",
        "plt.figure()\n",
        "plt.plot(epochs, loss, 'bo', label='Training loss')\n",
        "plt.plot(epochs, val_loss, 'b', label='Validation loss')\n",
        "plt.title('Training and validation loss')\n",
        "plt.legend()\n",
        "plt.show()"
      ],
      "execution_count": 15,
      "outputs": [
        {
          "output_type": "display_data",
          "data": {
            "image/png": "[encoded data removed]",
            "text/plain": [
              "<matplotlib.figure.Figure at 0x7fe2a5664358>"
            ]
          },
          "metadata": {
            "tags": []
          }
        },
        {
          "output_type": "display_data",
          "data": {
            "image/png": "[encoded data removed]",
            "text/plain": [
              "<matplotlib.figure.Figure at 0x7fe1ba85b320>"
            ]
          },
          "metadata": {
            "tags": []
          }
        }
      ]
    },
    {
      "metadata": {
        "id": "383qcqh46yN4",
        "colab_type": "text"
      },
      "cell_type": "markdown",
      "source": [
        "# **Instantiate CNN model and train**"
      ]
    },
    {
      "metadata": {
        "id": "-tZ3QVFrt0SQ",
        "colab_type": "code",
        "colab": {
          "autoexec": {
            "startup": false,
            "wait_interval": 0
          },
          "base_uri": "https://localhost:8080/",
          "height": 1832
        },
        "outputId": "f06b7674-8ad3-400b-c6ce-4173dd13bf0b",
        "executionInfo": {
          "status": "ok",
          "timestamp": 1525537639839,
          "user_tz": -480,
          "elapsed": 726968,
          "user": {
            "displayName": "Cao Liu",
            "photoUrl": "https://lh3.googleusercontent.com/a/default-user=s128",
            "userId": "100502084316368537324"
          }
        }
      },
      "cell_type": "code",
      "source": [
        "cnn = cnn(model_input)\n",
        "history_cnn=compile_and_train(cnn, num_epochs=50)"
      ],
      "execution_count": 18,
      "outputs": [
        {
          "output_type": "stream",
          "text": [
            "Train on 48000 samples, validate on 12000 samples\n",
            "Epoch 1/50\n",
            "48000/48000 [==============================] - 16s 343us/step - loss: 0.6640 - acc: 0.7519 - val_loss: 0.3814 - val_acc: 0.8598\n",
            "Epoch 2/50\n",
            "48000/48000 [==============================] - 14s 302us/step - loss: 0.4054 - acc: 0.8515 - val_loss: 0.3376 - val_acc: 0.8789\n",
            "Epoch 3/50\n",
            "11520/48000 [======>.......................] - ETA: 10s - loss: 0.3623 - acc: 0.8664"
          ],
          "name": "stdout"
        },
        {
          "output_type": "stream",
          "text": [
            "48000/48000 [==============================] - 14s 301us/step - loss: 0.3400 - acc: 0.8750 - val_loss: 0.2810 - val_acc: 0.8955\n",
            "Epoch 4/50\n",
            "48000/48000 [==============================] - 15s 302us/step - loss: 0.3059 - acc: 0.8889 - val_loss: 0.2609 - val_acc: 0.9044\n",
            "Epoch 5/50\n",
            "32512/48000 [===================>..........] - ETA: 4s - loss: 0.2893 - acc: 0.8956"
          ],
          "name": "stdout"
        },
        {
          "output_type": "stream",
          "text": [
            "48000/48000 [==============================] - 15s 302us/step - loss: 0.2843 - acc: 0.8959 - val_loss: 0.2601 - val_acc: 0.9021\n",
            "Epoch 6/50\n",
            "48000/48000 [==============================] - 15s 303us/step - loss: 0.2698 - acc: 0.9003 - val_loss: 0.2310 - val_acc: 0.9123\n",
            "Epoch 7/50\n",
            "37376/48000 [======================>.......] - ETA: 2s - loss: 0.2481 - acc: 0.9102"
          ],
          "name": "stdout"
        },
        {
          "output_type": "stream",
          "text": [
            "48000/48000 [==============================] - 14s 302us/step - loss: 0.2472 - acc: 0.9091 - val_loss: 0.2194 - val_acc: 0.9172\n",
            "Epoch 8/50\n",
            "48000/48000 [==============================] - 14s 301us/step - loss: 0.2374 - acc: 0.9124 - val_loss: 0.2130 - val_acc: 0.9195\n",
            "Epoch 9/50\n",
            "38400/48000 [=======================>......] - ETA: 2s - loss: 0.2245 - acc: 0.9173"
          ],
          "name": "stdout"
        },
        {
          "output_type": "stream",
          "text": [
            "48000/48000 [==============================] - 15s 303us/step - loss: 0.2265 - acc: 0.9164 - val_loss: 0.2140 - val_acc: 0.9199\n",
            "Epoch 10/50\n",
            "48000/48000 [==============================] - 15s 302us/step - loss: 0.2177 - acc: 0.9193 - val_loss: 0.2022 - val_acc: 0.9234\n",
            "Epoch 11/50\n",
            "38400/48000 [=======================>......] - ETA: 2s - loss: 0.2090 - acc: 0.9230"
          ],
          "name": "stdout"
        },
        {
          "output_type": "stream",
          "text": [
            "48000/48000 [==============================] - 14s 302us/step - loss: 0.2085 - acc: 0.9233 - val_loss: 0.1994 - val_acc: 0.9274\n",
            "Epoch 12/50\n",
            "48000/48000 [==============================] - 14s 302us/step - loss: 0.2005 - acc: 0.9261 - val_loss: 0.2016 - val_acc: 0.9237\n",
            "Epoch 13/50\n",
            "38400/48000 [=======================>......] - ETA: 2s - loss: 0.2021 - acc: 0.9261"
          ],
          "name": "stdout"
        },
        {
          "output_type": "stream",
          "text": [
            "48000/48000 [==============================] - 14s 302us/step - loss: 0.2025 - acc: 0.9260 - val_loss: 0.2044 - val_acc: 0.9270\n",
            "Epoch 14/50\n",
            "48000/48000 [==============================] - 14s 301us/step - loss: 0.1936 - acc: 0.9290 - val_loss: 0.1928 - val_acc: 0.9302\n",
            "Epoch 15/50\n",
            "38400/48000 [=======================>......] - ETA: 2s - loss: 0.1841 - acc: 0.9316"
          ],
          "name": "stdout"
        },
        {
          "output_type": "stream",
          "text": [
            "48000/48000 [==============================] - 14s 301us/step - loss: 0.1847 - acc: 0.9311 - val_loss: 0.1905 - val_acc: 0.9309\n",
            "Epoch 16/50\n",
            "48000/48000 [==============================] - 15s 302us/step - loss: 0.1797 - acc: 0.9332 - val_loss: 0.1916 - val_acc: 0.9316\n",
            "Epoch 17/50\n",
            "38400/48000 [=======================>......] - ETA: 2s - loss: 0.1786 - acc: 0.9332"
          ],
          "name": "stdout"
        },
        {
          "output_type": "stream",
          "text": [
            "48000/48000 [==============================] - 14s 302us/step - loss: 0.1803 - acc: 0.9333 - val_loss: 0.1834 - val_acc: 0.9315\n",
            "Epoch 18/50\n",
            "48000/48000 [==============================] - 14s 300us/step - loss: 0.1749 - acc: 0.9351 - val_loss: 0.1859 - val_acc: 0.9348\n",
            "Epoch 19/50\n",
            "38400/48000 [=======================>......] - ETA: 2s - loss: 0.1699 - acc: 0.9361"
          ],
          "name": "stdout"
        },
        {
          "output_type": "stream",
          "text": [
            "48000/48000 [==============================] - 14s 302us/step - loss: 0.1684 - acc: 0.9367 - val_loss: 0.1840 - val_acc: 0.9338\n",
            "Epoch 20/50\n",
            "48000/48000 [==============================] - 15s 302us/step - loss: 0.1654 - acc: 0.9379 - val_loss: 0.1849 - val_acc: 0.9351\n",
            "Epoch 21/50\n",
            "38400/48000 [=======================>......] - ETA: 2s - loss: 0.1637 - acc: 0.9379"
          ],
          "name": "stdout"
        },
        {
          "output_type": "stream",
          "text": [
            "48000/48000 [==============================] - 14s 301us/step - loss: 0.1645 - acc: 0.9377 - val_loss: 0.1877 - val_acc: 0.9338\n",
            "Epoch 22/50\n",
            "48000/48000 [==============================] - 15s 302us/step - loss: 0.1618 - acc: 0.9389 - val_loss: 0.1851 - val_acc: 0.9313\n",
            "Epoch 23/50\n",
            "38400/48000 [=======================>......] - ETA: 2s - loss: 0.1596 - acc: 0.9404"
          ],
          "name": "stdout"
        },
        {
          "output_type": "stream",
          "text": [
            "48000/48000 [==============================] - 15s 302us/step - loss: 0.1587 - acc: 0.9407 - val_loss: 0.1846 - val_acc: 0.9338\n",
            "Epoch 24/50\n",
            "48000/48000 [==============================] - 14s 302us/step - loss: 0.1557 - acc: 0.9427 - val_loss: 0.1821 - val_acc: 0.9378\n",
            "Epoch 25/50\n",
            "38400/48000 [=======================>......] - ETA: 2s - loss: 0.1481 - acc: 0.9453"
          ],
          "name": "stdout"
        },
        {
          "output_type": "stream",
          "text": [
            "48000/48000 [==============================] - 14s 301us/step - loss: 0.1497 - acc: 0.9449 - val_loss: 0.1882 - val_acc: 0.9340\n",
            "Epoch 26/50\n",
            "48000/48000 [==============================] - 14s 300us/step - loss: 0.1496 - acc: 0.9446 - val_loss: 0.1964 - val_acc: 0.9332\n",
            "Epoch 27/50\n",
            "38400/48000 [=======================>......] - ETA: 2s - loss: 0.1454 - acc: 0.9461"
          ],
          "name": "stdout"
        },
        {
          "output_type": "stream",
          "text": [
            "48000/48000 [==============================] - 14s 301us/step - loss: 0.1460 - acc: 0.9467 - val_loss: 0.1935 - val_acc: 0.9356\n",
            "Epoch 28/50\n",
            "48000/48000 [==============================] - 14s 301us/step - loss: 0.1459 - acc: 0.9459 - val_loss: 0.1819 - val_acc: 0.9385\n",
            "Epoch 29/50\n",
            "38400/48000 [=======================>......] - ETA: 2s - loss: 0.1456 - acc: 0.9454"
          ],
          "name": "stdout"
        },
        {
          "output_type": "stream",
          "text": [
            "48000/48000 [==============================] - 14s 301us/step - loss: 0.1452 - acc: 0.9457 - val_loss: 0.1885 - val_acc: 0.9371\n",
            "Epoch 30/50\n",
            "48000/48000 [==============================] - 14s 301us/step - loss: 0.1396 - acc: 0.9484 - val_loss: 0.1851 - val_acc: 0.9359\n",
            "Epoch 31/50\n",
            "38400/48000 [=======================>......] - ETA: 2s - loss: 0.1378 - acc: 0.9479"
          ],
          "name": "stdout"
        },
        {
          "output_type": "stream",
          "text": [
            "48000/48000 [==============================] - 15s 302us/step - loss: 0.1399 - acc: 0.9477 - val_loss: 0.1886 - val_acc: 0.9358\n",
            "Epoch 32/50\n",
            "48000/48000 [==============================] - 14s 302us/step - loss: 0.1381 - acc: 0.9484 - val_loss: 0.1821 - val_acc: 0.9379\n",
            "Epoch 33/50\n",
            "38400/48000 [=======================>......] - ETA: 2s - loss: 0.1363 - acc: 0.9491"
          ],
          "name": "stdout"
        },
        {
          "output_type": "stream",
          "text": [
            "48000/48000 [==============================] - 14s 300us/step - loss: 0.1370 - acc: 0.9490 - val_loss: 0.1886 - val_acc: 0.9352\n",
            "Epoch 34/50\n",
            "48000/48000 [==============================] - 14s 298us/step - loss: 0.1344 - acc: 0.9495 - val_loss: 0.1771 - val_acc: 0.9398\n",
            "Epoch 35/50\n",
            "38400/48000 [=======================>......] - ETA: 2s - loss: 0.1321 - acc: 0.9498"
          ],
          "name": "stdout"
        },
        {
          "output_type": "stream",
          "text": [
            "48000/48000 [==============================] - 14s 301us/step - loss: 0.1330 - acc: 0.9499 - val_loss: 0.1812 - val_acc: 0.9400\n",
            "Epoch 36/50\n",
            "48000/48000 [==============================] - 14s 301us/step - loss: 0.1304 - acc: 0.9493 - val_loss: 0.1828 - val_acc: 0.9392\n",
            "Epoch 37/50\n",
            "38400/48000 [=======================>......] - ETA: 2s - loss: 0.1295 - acc: 0.9509"
          ],
          "name": "stdout"
        },
        {
          "output_type": "stream",
          "text": [
            "48000/48000 [==============================] - 14s 302us/step - loss: 0.1292 - acc: 0.9513 - val_loss: 0.1838 - val_acc: 0.9387\n",
            "Epoch 38/50\n",
            "48000/48000 [==============================] - 14s 301us/step - loss: 0.1235 - acc: 0.9533 - val_loss: 0.1863 - val_acc: 0.9403\n",
            "Epoch 39/50\n",
            "38400/48000 [=======================>......] - ETA: 2s - loss: 0.1248 - acc: 0.9524"
          ],
          "name": "stdout"
        },
        {
          "output_type": "stream",
          "text": [
            "48000/48000 [==============================] - 14s 300us/step - loss: 0.1245 - acc: 0.9524 - val_loss: 0.1875 - val_acc: 0.9409\n",
            "Epoch 40/50\n",
            "48000/48000 [==============================] - 15s 303us/step - loss: 0.1240 - acc: 0.9526 - val_loss: 0.1791 - val_acc: 0.9407\n",
            "Epoch 41/50\n",
            "38400/48000 [=======================>......] - ETA: 2s - loss: 0.1218 - acc: 0.9546"
          ],
          "name": "stdout"
        },
        {
          "output_type": "stream",
          "text": [
            "48000/48000 [==============================] - 15s 303us/step - loss: 0.1218 - acc: 0.9546 - val_loss: 0.1807 - val_acc: 0.9415\n",
            "Epoch 42/50\n",
            "48000/48000 [==============================] - 14s 301us/step - loss: 0.1207 - acc: 0.9545 - val_loss: 0.1901 - val_acc: 0.9399\n",
            "Epoch 43/50\n",
            "38400/48000 [=======================>......] - ETA: 2s - loss: 0.1188 - acc: 0.9555"
          ],
          "name": "stdout"
        },
        {
          "output_type": "stream",
          "text": [
            "48000/48000 [==============================] - 14s 302us/step - loss: 0.1193 - acc: 0.9557 - val_loss: 0.1838 - val_acc: 0.9388\n",
            "Epoch 44/50\n",
            "48000/48000 [==============================] - 14s 302us/step - loss: 0.1155 - acc: 0.9561 - val_loss: 0.1839 - val_acc: 0.9407\n",
            "Epoch 45/50\n",
            "38400/48000 [=======================>......] - ETA: 2s - loss: 0.1121 - acc: 0.9579"
          ],
          "name": "stdout"
        },
        {
          "output_type": "stream",
          "text": [
            "48000/48000 [==============================] - 14s 300us/step - loss: 0.1127 - acc: 0.9581 - val_loss: 0.1848 - val_acc: 0.9430\n",
            "Epoch 46/50\n",
            "48000/48000 [==============================] - 14s 301us/step - loss: 0.1166 - acc: 0.9562 - val_loss: 0.1842 - val_acc: 0.9435\n",
            "Epoch 47/50\n",
            "38400/48000 [=======================>......] - ETA: 2s - loss: 0.1114 - acc: 0.9578"
          ],
          "name": "stdout"
        },
        {
          "output_type": "stream",
          "text": [
            "48000/48000 [==============================] - 14s 300us/step - loss: 0.1125 - acc: 0.9578 - val_loss: 0.1819 - val_acc: 0.9433\n",
            "Epoch 48/50\n",
            "48000/48000 [==============================] - 14s 301us/step - loss: 0.1164 - acc: 0.9560 - val_loss: 0.1834 - val_acc: 0.9415\n",
            "Epoch 49/50\n",
            "38400/48000 [=======================>......] - ETA: 2s - loss: 0.1082 - acc: 0.9587"
          ],
          "name": "stdout"
        },
        {
          "output_type": "stream",
          "text": [
            "48000/48000 [==============================] - 14s 300us/step - loss: 0.1088 - acc: 0.9585 - val_loss: 0.1786 - val_acc: 0.9428\n",
            "Epoch 50/50\n",
            "48000/48000 [==============================] - 14s 300us/step - loss: 0.1120 - acc: 0.9575 - val_loss: 0.1931 - val_acc: 0.9397\n"
          ],
          "name": "stdout"
        }
      ]
    },
    {
      "metadata": {
        "id": "o01avMNL63Em",
        "colab_type": "text"
      },
      "cell_type": "markdown",
      "source": [
        "# **Evaluate CNN accuracy by test data: 0.9441**"
      ]
    },
    {
      "metadata": {
        "id": "61T5u14R4QQX",
        "colab_type": "code",
        "colab": {
          "autoexec": {
            "startup": false,
            "wait_interval": 0
          },
          "base_uri": "https://localhost:8080/",
          "height": 34
        },
        "outputId": "bd071f39-0e1b-47d6-87a6-3780d88be583",
        "executionInfo": {
          "status": "ok",
          "timestamp": 1525537646386,
          "user_tz": -480,
          "elapsed": 2887,
          "user": {
            "displayName": "Cao Liu",
            "photoUrl": "https://lh3.googleusercontent.com/a/default-user=s128",
            "userId": "100502084316368537324"
          }
        }
      },
      "cell_type": "code",
      "source": [
        "evaluate_accuracy(cnn)"
      ],
      "execution_count": 19,
      "outputs": [
        {
          "output_type": "execute_result",
          "data": {
            "text/plain": [
              "0.9441"
            ]
          },
          "metadata": {
            "tags": []
          },
          "execution_count": 19
        }
      ]
    },
    {
      "metadata": {
        "id": "mITKFPKWIUQA",
        "colab_type": "code",
        "colab": {
          "autoexec": {
            "startup": false,
            "wait_interval": 0
          },
          "base_uri": "https://localhost:8080/",
          "height": 543
        },
        "outputId": "8166ebc6-5a66-49ca-98aa-fd6462899958",
        "executionInfo": {
          "status": "ok",
          "timestamp": 1525537716700,
          "user_tz": -480,
          "elapsed": 1097,
          "user": {
            "displayName": "Cao Liu",
            "photoUrl": "https://lh3.googleusercontent.com/a/default-user=s128",
            "userId": "100502084316368537324"
          }
        }
      },
      "cell_type": "code",
      "source": [
        "accuracy = history_cnn.history['acc']\n",
        "val_accuracy = history_cnn.history['val_acc']\n",
        "loss = history_cnn.history['loss']\n",
        "val_loss = history_cnn.history['val_loss']\n",
        "epochs = range(len(accuracy))\n",
        "plt.plot(epochs, accuracy, 'bo', label='Training accuracy')\n",
        "plt.plot(epochs, val_accuracy, 'b', label='Validation accuracy')\n",
        "plt.title('Training and validation accuracy')\n",
        "plt.legend()\n",
        "plt.figure()\n",
        "plt.plot(epochs, loss, 'bo', label='Training loss')\n",
        "plt.plot(epochs, val_loss, 'b', label='Validation loss')\n",
        "plt.title('Training and validation loss')\n",
        "plt.legend()\n",
        "plt.show()"
      ],
      "execution_count": 21,
      "outputs": [
        {
          "output_type": "display_data",
          "data": {
            "image/png": "[encoded data removed]",
            "text/plain": [
              "<matplotlib.figure.Figure at 0x7fe1b74191d0>"
            ]
          },
          "metadata": {
            "tags": []
          }
        },
        {
          "output_type": "display_data",
          "data": {
            "image/png": "[encoded data removed]",
            "text/plain": [
              "<matplotlib.figure.Figure at 0x7fe1b74bed68>"
            ]
          },
          "metadata": {
            "tags": []
          }
        }
      ]
    },
    {
      "metadata": {
        "id": "2CScC0F06_2n",
        "colab_type": "text"
      },
      "cell_type": "markdown",
      "source": [
        "# **Create Ensemble model with MLPC and CNN**"
      ]
    },
    {
      "metadata": {
        "id": "pYOFSvxpt_Ej",
        "colab_type": "code",
        "colab": {
          "autoexec": {
            "startup": false,
            "wait_interval": 0
          }
        }
      },
      "cell_type": "code",
      "source": [
        "models = [mlpc, cnn]"
      ],
      "execution_count": 0,
      "outputs": []
    },
    {
      "metadata": {
        "id": "ozErpGsLq2ou",
        "colab_type": "code",
        "colab": {
          "autoexec": {
            "startup": false,
            "wait_interval": 0
          }
        }
      },
      "cell_type": "code",
      "source": [
        "def ensemble(models, model_input):    \n",
        "    outputs = [model.outputs[0] for model in models]\n",
        "    y = Average()(outputs)\n",
        "    model = Model(model_input, y, name='ensemble')   \n",
        "    history_ensemble=compile_and_train(model, num_epochs=50)\n",
        "    return model, history_ensemble"
      ],
      "execution_count": 0,
      "outputs": []
    },
    {
      "metadata": {
        "id": "sUZ_gHV_rC5K",
        "colab_type": "code",
        "colab": {
          "autoexec": {
            "startup": false,
            "wait_interval": 0
          },
          "base_uri": "https://localhost:8080/",
          "height": 1832
        },
        "outputId": "ef5429e1-1af8-49ab-b6a9-8ba5432d2d18",
        "executionInfo": {
          "status": "ok",
          "timestamp": 1525539191241,
          "user_tz": -480,
          "elapsed": 1239324,
          "user": {
            "displayName": "Cao Liu",
            "photoUrl": "https://lh3.googleusercontent.com/a/default-user=s128",
            "userId": "100502084316368537324"
          }
        }
      },
      "cell_type": "code",
      "source": [
        "ensemble_model,history_ensemble = ensemble(models, model_input)"
      ],
      "execution_count": 24,
      "outputs": [
        {
          "output_type": "stream",
          "text": [
            "Train on 48000 samples, validate on 12000 samples\n",
            "Epoch 1/50\n",
            "48000/48000 [==============================] - 25s 528us/step - loss: 0.1379 - acc: 0.9588 - val_loss: 0.2142 - val_acc: 0.9350\n",
            "Epoch 2/50\n",
            "48000/48000 [==============================] - 25s 513us/step - loss: 0.1325 - acc: 0.9605 - val_loss: 0.2180 - val_acc: 0.9345\n",
            "Epoch 3/50\n",
            "11520/48000 [======>.......................] - ETA: 17s - loss: 0.1322 - acc: 0.9608"
          ],
          "name": "stdout"
        },
        {
          "output_type": "stream",
          "text": [
            "48000/48000 [==============================] - 25s 514us/step - loss: 0.1325 - acc: 0.9600 - val_loss: 0.2276 - val_acc: 0.9338\n",
            "Epoch 4/50\n",
            "48000/48000 [==============================] - 25s 515us/step - loss: 0.1350 - acc: 0.9603 - val_loss: 0.2209 - val_acc: 0.9353\n",
            "Epoch 5/50\n",
            "32512/48000 [===================>..........] - ETA: 7s - loss: 0.1343 - acc: 0.9603"
          ],
          "name": "stdout"
        },
        {
          "output_type": "stream",
          "text": [
            "48000/48000 [==============================] - 25s 515us/step - loss: 0.1329 - acc: 0.9602 - val_loss: 0.2145 - val_acc: 0.9351\n",
            "Epoch 6/50\n",
            "48000/48000 [==============================] - 25s 515us/step - loss: 0.1311 - acc: 0.9599 - val_loss: 0.2313 - val_acc: 0.9346\n",
            "Epoch 7/50\n",
            "37376/48000 [======================>.......] - ETA: 5s - loss: 0.1353 - acc: 0.9610"
          ],
          "name": "stdout"
        },
        {
          "output_type": "stream",
          "text": [
            "48000/48000 [==============================] - 25s 515us/step - loss: 0.1359 - acc: 0.9605 - val_loss: 0.2225 - val_acc: 0.9357\n",
            "Epoch 8/50\n",
            "48000/48000 [==============================] - 25s 516us/step - loss: 0.1309 - acc: 0.9601 - val_loss: 0.2249 - val_acc: 0.9365\n",
            "Epoch 9/50\n",
            "38400/48000 [=======================>......] - ETA: 4s - loss: 0.1284 - acc: 0.9617"
          ],
          "name": "stdout"
        },
        {
          "output_type": "stream",
          "text": [
            "48000/48000 [==============================] - 25s 516us/step - loss: 0.1280 - acc: 0.9617 - val_loss: 0.2478 - val_acc: 0.9301\n",
            "Epoch 10/50\n",
            "48000/48000 [==============================] - 25s 515us/step - loss: 0.1296 - acc: 0.9621 - val_loss: 0.2321 - val_acc: 0.9313\n",
            "Epoch 11/50\n",
            "38400/48000 [=======================>......] - ETA: 4s - loss: 0.1276 - acc: 0.9639"
          ],
          "name": "stdout"
        },
        {
          "output_type": "stream",
          "text": [
            "48000/48000 [==============================] - 25s 515us/step - loss: 0.1287 - acc: 0.9634 - val_loss: 0.2340 - val_acc: 0.9360\n",
            "Epoch 12/50\n",
            "48000/48000 [==============================] - 25s 516us/step - loss: 0.1255 - acc: 0.9629 - val_loss: 0.2316 - val_acc: 0.9372\n",
            "Epoch 13/50\n",
            "38400/48000 [=======================>......] - ETA: 4s - loss: 0.1304 - acc: 0.9610"
          ],
          "name": "stdout"
        },
        {
          "output_type": "stream",
          "text": [
            "48000/48000 [==============================] - 25s 515us/step - loss: 0.1303 - acc: 0.9614 - val_loss: 0.2274 - val_acc: 0.9365\n",
            "Epoch 14/50\n",
            "48000/48000 [==============================] - 25s 516us/step - loss: 0.1263 - acc: 0.9615 - val_loss: 0.2484 - val_acc: 0.9346\n",
            "Epoch 15/50\n",
            "38400/48000 [=======================>......] - ETA: 4s - loss: 0.1260 - acc: 0.9626"
          ],
          "name": "stdout"
        },
        {
          "output_type": "stream",
          "text": [
            "48000/48000 [==============================] - 25s 515us/step - loss: 0.1266 - acc: 0.9625 - val_loss: 0.2341 - val_acc: 0.9351\n",
            "Epoch 16/50\n",
            "48000/48000 [==============================] - 25s 514us/step - loss: 0.1252 - acc: 0.9629 - val_loss: 0.2285 - val_acc: 0.9340\n",
            "Epoch 17/50\n",
            "38400/48000 [=======================>......] - ETA: 4s - loss: 0.1222 - acc: 0.9630"
          ],
          "name": "stdout"
        },
        {
          "output_type": "stream",
          "text": [
            "48000/48000 [==============================] - 25s 515us/step - loss: 0.1250 - acc: 0.9623 - val_loss: 0.2369 - val_acc: 0.9345\n",
            "Epoch 18/50\n",
            "48000/48000 [==============================] - 25s 516us/step - loss: 0.1251 - acc: 0.9635 - val_loss: 0.2318 - val_acc: 0.9353\n",
            "Epoch 19/50\n",
            "38400/48000 [=======================>......] - ETA: 4s - loss: 0.1241 - acc: 0.9628"
          ],
          "name": "stdout"
        },
        {
          "output_type": "stream",
          "text": [
            "48000/48000 [==============================] - 25s 517us/step - loss: 0.1256 - acc: 0.9623 - val_loss: 0.2321 - val_acc: 0.9378\n",
            "Epoch 20/50\n",
            "48000/48000 [==============================] - 25s 516us/step - loss: 0.1242 - acc: 0.9633 - val_loss: 0.2321 - val_acc: 0.9366\n",
            "Epoch 21/50\n",
            "38400/48000 [=======================>......] - ETA: 4s - loss: 0.1254 - acc: 0.9622"
          ],
          "name": "stdout"
        },
        {
          "output_type": "stream",
          "text": [
            "48000/48000 [==============================] - 25s 514us/step - loss: 0.1263 - acc: 0.9618 - val_loss: 0.2323 - val_acc: 0.9353\n",
            "Epoch 22/50\n",
            "48000/48000 [==============================] - 25s 518us/step - loss: 0.1209 - acc: 0.9649 - val_loss: 0.2431 - val_acc: 0.9340\n",
            "Epoch 23/50\n",
            "38400/48000 [=======================>......] - ETA: 4s - loss: 0.1185 - acc: 0.9645"
          ],
          "name": "stdout"
        },
        {
          "output_type": "stream",
          "text": [
            "48000/48000 [==============================] - 25s 515us/step - loss: 0.1167 - acc: 0.9655 - val_loss: 0.2350 - val_acc: 0.9352\n",
            "Epoch 24/50\n",
            "48000/48000 [==============================] - 25s 517us/step - loss: 0.1164 - acc: 0.9667 - val_loss: 0.2321 - val_acc: 0.9339\n",
            "Epoch 25/50\n",
            "38400/48000 [=======================>......] - ETA: 4s - loss: 0.1120 - acc: 0.9661"
          ],
          "name": "stdout"
        },
        {
          "output_type": "stream",
          "text": [
            "48000/48000 [==============================] - 25s 515us/step - loss: 0.1133 - acc: 0.9660 - val_loss: 0.2349 - val_acc: 0.9348\n",
            "Epoch 26/50\n",
            "48000/48000 [==============================] - 25s 515us/step - loss: 0.1195 - acc: 0.9645 - val_loss: 0.2302 - val_acc: 0.9355\n",
            "Epoch 27/50\n",
            "38400/48000 [=======================>......] - ETA: 4s - loss: 0.1213 - acc: 0.9633"
          ],
          "name": "stdout"
        },
        {
          "output_type": "stream",
          "text": [
            "48000/48000 [==============================] - 25s 513us/step - loss: 0.1213 - acc: 0.9634 - val_loss: 0.2361 - val_acc: 0.9376\n",
            "Epoch 28/50\n",
            "48000/48000 [==============================] - 25s 517us/step - loss: 0.1199 - acc: 0.9647 - val_loss: 0.2327 - val_acc: 0.9340\n",
            "Epoch 29/50\n",
            "38400/48000 [=======================>......] - ETA: 4s - loss: 0.1144 - acc: 0.9657"
          ],
          "name": "stdout"
        },
        {
          "output_type": "stream",
          "text": [
            "48000/48000 [==============================] - 25s 515us/step - loss: 0.1145 - acc: 0.9657 - val_loss: 0.2420 - val_acc: 0.9372\n",
            "Epoch 30/50\n",
            "48000/48000 [==============================] - 25s 515us/step - loss: 0.1190 - acc: 0.9653 - val_loss: 0.2420 - val_acc: 0.9365\n",
            "Epoch 31/50\n",
            "38400/48000 [=======================>......] - ETA: 4s - loss: 0.1174 - acc: 0.9654"
          ],
          "name": "stdout"
        },
        {
          "output_type": "stream",
          "text": [
            "48000/48000 [==============================] - 25s 515us/step - loss: 0.1172 - acc: 0.9651 - val_loss: 0.2327 - val_acc: 0.9378\n",
            "Epoch 32/50\n",
            "48000/48000 [==============================] - 25s 515us/step - loss: 0.1182 - acc: 0.9635 - val_loss: 0.2480 - val_acc: 0.9356\n",
            "Epoch 33/50\n",
            "38400/48000 [=======================>......] - ETA: 4s - loss: 0.1192 - acc: 0.9641"
          ],
          "name": "stdout"
        },
        {
          "output_type": "stream",
          "text": [
            "48000/48000 [==============================] - 25s 515us/step - loss: 0.1191 - acc: 0.9641 - val_loss: 0.2449 - val_acc: 0.9363\n",
            "Epoch 34/50\n",
            "48000/48000 [==============================] - 25s 514us/step - loss: 0.1187 - acc: 0.9644 - val_loss: 0.2351 - val_acc: 0.9381\n",
            "Epoch 35/50\n",
            "38400/48000 [=======================>......] - ETA: 4s - loss: 0.1126 - acc: 0.9652"
          ],
          "name": "stdout"
        },
        {
          "output_type": "stream",
          "text": [
            "48000/48000 [==============================] - 25s 516us/step - loss: 0.1132 - acc: 0.9654 - val_loss: 0.2501 - val_acc: 0.9372\n",
            "Epoch 36/50\n",
            "48000/48000 [==============================] - 25s 516us/step - loss: 0.1116 - acc: 0.9659 - val_loss: 0.2359 - val_acc: 0.9364\n",
            "Epoch 37/50\n",
            "38400/48000 [=======================>......] - ETA: 4s - loss: 0.1113 - acc: 0.9649"
          ],
          "name": "stdout"
        },
        {
          "output_type": "stream",
          "text": [
            "48000/48000 [==============================] - 25s 515us/step - loss: 0.1119 - acc: 0.9650 - val_loss: 0.2444 - val_acc: 0.9357\n",
            "Epoch 38/50\n",
            "48000/48000 [==============================] - 25s 515us/step - loss: 0.1160 - acc: 0.9643 - val_loss: 0.2502 - val_acc: 0.9348\n",
            "Epoch 39/50\n",
            "38400/48000 [=======================>......] - ETA: 4s - loss: 0.1153 - acc: 0.9665"
          ],
          "name": "stdout"
        },
        {
          "output_type": "stream",
          "text": [
            "48000/48000 [==============================] - 25s 514us/step - loss: 0.1139 - acc: 0.9664 - val_loss: 0.2602 - val_acc: 0.9338\n",
            "Epoch 40/50\n",
            "48000/48000 [==============================] - 25s 515us/step - loss: 0.1135 - acc: 0.9648 - val_loss: 0.2707 - val_acc: 0.9345\n",
            "Epoch 41/50\n",
            "38400/48000 [=======================>......] - ETA: 4s - loss: 0.1116 - acc: 0.9671"
          ],
          "name": "stdout"
        },
        {
          "output_type": "stream",
          "text": [
            "48000/48000 [==============================] - 25s 516us/step - loss: 0.1112 - acc: 0.9669 - val_loss: 0.2496 - val_acc: 0.9367\n",
            "Epoch 42/50\n",
            "48000/48000 [==============================] - 25s 515us/step - loss: 0.1146 - acc: 0.9670 - val_loss: 0.2526 - val_acc: 0.9355\n",
            "Epoch 43/50\n",
            "38400/48000 [=======================>......] - ETA: 4s - loss: 0.1087 - acc: 0.9665"
          ],
          "name": "stdout"
        },
        {
          "output_type": "stream",
          "text": [
            "48000/48000 [==============================] - 25s 516us/step - loss: 0.1102 - acc: 0.9657 - val_loss: 0.2656 - val_acc: 0.9345\n",
            "Epoch 44/50\n",
            "48000/48000 [==============================] - 25s 516us/step - loss: 0.1132 - acc: 0.9652 - val_loss: 0.2628 - val_acc: 0.9340\n",
            "Epoch 45/50\n",
            "38400/48000 [=======================>......] - ETA: 4s - loss: 0.1128 - acc: 0.9654"
          ],
          "name": "stdout"
        },
        {
          "output_type": "stream",
          "text": [
            "48000/48000 [==============================] - 25s 513us/step - loss: 0.1131 - acc: 0.9660 - val_loss: 0.2469 - val_acc: 0.9374\n",
            "Epoch 46/50\n",
            "48000/48000 [==============================] - 25s 516us/step - loss: 0.1154 - acc: 0.9655 - val_loss: 0.2494 - val_acc: 0.9377\n",
            "Epoch 47/50\n",
            "38400/48000 [=======================>......] - ETA: 4s - loss: 0.1094 - acc: 0.9673"
          ],
          "name": "stdout"
        },
        {
          "output_type": "stream",
          "text": [
            "48000/48000 [==============================] - 25s 515us/step - loss: 0.1071 - acc: 0.9677 - val_loss: 0.2677 - val_acc: 0.9388\n",
            "Epoch 48/50\n",
            "48000/48000 [==============================] - 25s 516us/step - loss: 0.1135 - acc: 0.9649 - val_loss: 0.2448 - val_acc: 0.9377\n",
            "Epoch 49/50\n",
            "38400/48000 [=======================>......] - ETA: 4s - loss: 0.1080 - acc: 0.9674"
          ],
          "name": "stdout"
        },
        {
          "output_type": "stream",
          "text": [
            "48000/48000 [==============================] - 25s 516us/step - loss: 0.1092 - acc: 0.9668 - val_loss: 0.2697 - val_acc: 0.9335\n",
            "Epoch 50/50\n",
            "48000/48000 [==============================] - 25s 516us/step - loss: 0.1145 - acc: 0.9640 - val_loss: 0.2427 - val_acc: 0.9375\n"
          ],
          "name": "stdout"
        }
      ]
    },
    {
      "metadata": {
        "id": "rzD2fuLJ7TS7",
        "colab_type": "text"
      },
      "cell_type": "markdown",
      "source": [
        "# **Evaluate ensemble model accuracy: 0.9425**"
      ]
    },
    {
      "metadata": {
        "id": "GrcPhS2wrroB",
        "colab_type": "code",
        "colab": {
          "autoexec": {
            "startup": false,
            "wait_interval": 0
          },
          "base_uri": "https://localhost:8080/",
          "height": 34
        },
        "outputId": "3ff498b7-0dec-4543-ae55-85cec6933fe2",
        "executionInfo": {
          "status": "ok",
          "timestamp": 1525539288909,
          "user_tz": -480,
          "elapsed": 5709,
          "user": {
            "displayName": "Cao Liu",
            "photoUrl": "https://lh3.googleusercontent.com/a/default-user=s128",
            "userId": "100502084316368537324"
          }
        }
      },
      "cell_type": "code",
      "source": [
        "evaluate_accuracy(ensemble_model)"
      ],
      "execution_count": 25,
      "outputs": [
        {
          "output_type": "execute_result",
          "data": {
            "text/plain": [
              "0.9425"
            ]
          },
          "metadata": {
            "tags": []
          },
          "execution_count": 25
        }
      ]
    },
    {
      "metadata": {
        "id": "xtlT5FLLOkQF",
        "colab_type": "code",
        "colab": {
          "autoexec": {
            "startup": false,
            "wait_interval": 0
          },
          "base_uri": "https://localhost:8080/",
          "height": 543
        },
        "outputId": "23353565-cb2d-4d32-af09-c38feeb941b0",
        "executionInfo": {
          "status": "ok",
          "timestamp": 1525539318218,
          "user_tz": -480,
          "elapsed": 1225,
          "user": {
            "displayName": "Cao Liu",
            "photoUrl": "https://lh3.googleusercontent.com/a/default-user=s128",
            "userId": "100502084316368537324"
          }
        }
      },
      "cell_type": "code",
      "source": [
        "accuracy = history_ensemble.history['acc']\n",
        "val_accuracy = history_ensemble.history['val_acc']\n",
        "loss = history_ensemble.history['loss']\n",
        "val_loss = history_ensemble.history['val_loss']\n",
        "epochs = range(len(accuracy))\n",
        "plt.plot(epochs, accuracy, 'bo', label='Training accuracy')\n",
        "plt.plot(epochs, val_accuracy, 'b', label='Validation accuracy')\n",
        "plt.title('Training and validation accuracy')\n",
        "plt.legend()\n",
        "plt.figure()\n",
        "plt.plot(epochs, loss, 'bo', label='Training loss')\n",
        "plt.plot(epochs, val_loss, 'b', label='Validation loss')\n",
        "plt.title('Training and validation loss')\n",
        "plt.legend()\n",
        "plt.show()"
      ],
      "execution_count": 26,
      "outputs": [
        {
          "output_type": "display_data",
          "data": {
            "image/png": "[encoded data removed]",
            "text/plain": [
              "<matplotlib.figure.Figure at 0x7fe1b5c20da0>"
            ]
          },
          "metadata": {
            "tags": []
          }
        },
        {
          "output_type": "display_data",
          "data": {
            "image/png": "[encoded data removed]",
            "text/plain": [
              "<matplotlib.figure.Figure at 0x7fe1b5becda0>"
            ]
          },
          "metadata": {
            "tags": []
          }
        }
      ]
    }
  ]
}